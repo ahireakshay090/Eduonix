{
 "cells": [
  {
   "cell_type": "markdown",
   "id": "ad88aedf",
   "metadata": {},
   "source": [
    "# Python"
   ]
  },
  {
   "cell_type": "markdown",
   "id": "8fa37715",
   "metadata": {},
   "source": [
    "# 1.Write a program using list comprehension to find primes \n",
    "in range 2 to 100."
   ]
  },
  {
   "cell_type": "code",
   "execution_count": 17,
   "id": "bea63e85",
   "metadata": {},
   "outputs": [
    {
     "name": "stdout",
     "output_type": "stream",
     "text": [
      "[2, 3, 5, 7, 11, 13, 17, 19, 23, 29, 31, 37, 41, 43, 47, 53, 59, 61, 67, 71, 73, 79, 83, 89, 97]\n"
     ]
    }
   ],
   "source": [
    "prime=[2,3,5,7]+[i for i in range(2,101) if i%2!=0 and i%3!=0 and i%5!=0 and i%7!=0]\n",
    "print(prime)"
   ]
  },
  {
   "cell_type": "markdown",
   "id": "018a2d33",
   "metadata": {},
   "source": [
    "# 2.Write a function to reverse a string"
   ]
  },
  {
   "cell_type": "markdown",
   "id": "50a6925b",
   "metadata": {},
   "source": [
    "string='reverse a string'"
   ]
  },
  {
   "cell_type": "code",
   "execution_count": 1,
   "id": "3c8bd885",
   "metadata": {},
   "outputs": [
    {
     "name": "stdout",
     "output_type": "stream",
     "text": [
      "Enter a word here: Apple\n"
     ]
    },
    {
     "data": {
      "text/plain": [
       "'elppA'"
      ]
     },
     "execution_count": 1,
     "metadata": {},
     "output_type": "execute_result"
    }
   ],
   "source": [
    "string=input('Enter a word here: ')\n",
    "\n",
    "string[::-1]\n",
    "   \n"
   ]
  },
  {
   "cell_type": "markdown",
   "id": "493b9f78",
   "metadata": {},
   "source": [
    "# 3.Write a program to extract the words from the given list which have their first character in uppercase. Days = ['Monday', 'tuesday','friday', 'Sunday', 'Saturday']\n",
    "\n",
    "Output: ['Monday', 'Sunday', 'Saturday'"
   ]
  },
  {
   "cell_type": "code",
   "execution_count": 1,
   "id": "0d1f9d90",
   "metadata": {},
   "outputs": [],
   "source": [
    " Days = ['Monday', 'tuesday','friday', 'Sunday', 'Saturday']"
   ]
  },
  {
   "cell_type": "code",
   "execution_count": 20,
   "id": "0ccf1f94",
   "metadata": {},
   "outputs": [
    {
     "data": {
      "text/plain": [
       "['Monday', 'Sunday', 'Saturday']"
      ]
     },
     "execution_count": 20,
     "metadata": {},
     "output_type": "execute_result"
    }
   ],
   "source": [
    "Output = []\n",
    "for i in range(0,5):\n",
    "    if Days[i][0]==Days[i][0].upper():\n",
    "        Output.append(Days[i])\n",
    "Output"
   ]
  },
  {
   "cell_type": "markdown",
   "id": "094d948f",
   "metadata": {},
   "source": [
    "# 4.Write a program to extract the year part from the dates in \n",
    "the given list.\n",
    "\n",
    "Batch = ['15-06-1997','15-06-2011','15-06-1993','15-06-2020']\n",
    "\n",
    "Output: ['1997','2011','1993','2020']"
   ]
  },
  {
   "cell_type": "code",
   "execution_count": 21,
   "id": "e3e68727",
   "metadata": {},
   "outputs": [],
   "source": [
    "Batch = ['15-06-1997','15-06-2011','15-06-1993','15-06-2020']"
   ]
  },
  {
   "cell_type": "code",
   "execution_count": 33,
   "id": "b0da4724",
   "metadata": {},
   "outputs": [
    {
     "data": {
      "text/plain": [
       "['1997', '2011', '1993', '2020']"
      ]
     },
     "execution_count": 33,
     "metadata": {},
     "output_type": "execute_result"
    }
   ],
   "source": [
    "output=[]\n",
    "for i in Batch:\n",
    "    output.append(i[6:])\n",
    "output"
   ]
  },
  {
   "cell_type": "markdown",
   "id": "3fc0632a",
   "metadata": {},
   "source": [
    "# 5.Write a program swap the keys to values and values to keys of the given dictionary. \n",
    "\n",
    "Module = {'Data Science':1,'Machine Learning':2, 'SQL':3, 'Big Data':4} \n",
    "\n",
    "Output: {1:'Data Science',2:'Machine Learning', 3:'SQL', 4:'Big Data'}"
   ]
  },
  {
   "cell_type": "code",
   "execution_count": 7,
   "id": "5e26740f",
   "metadata": {},
   "outputs": [],
   "source": [
    "Module = {'Data Science':1,'Machine Learning':2, 'SQL':3, 'Big Data':4}"
   ]
  },
  {
   "cell_type": "code",
   "execution_count": 33,
   "id": "84f82c00",
   "metadata": {},
   "outputs": [
    {
     "data": {
      "text/plain": [
       "{1: 'Data Science', 2: 'Machine Learning', 3: 'SQL', 4: 'Big Data'}"
      ]
     },
     "execution_count": 33,
     "metadata": {},
     "output_type": "execute_result"
    }
   ],
   "source": [
    "Output={}\n",
    "Output= {v:k for k,v in Module.items()}\n",
    "Output\n"
   ]
  },
  {
   "cell_type": "markdown",
   "id": "99c46d7d",
   "metadata": {},
   "source": [
    "# 6.Write a program to count the number of elements in the string (given by the user) that are not present in the 'my_string'. \n",
    "\n",
    "Do not count the white spaces.\n",
    "\n",
    "my_string = 'Data Science'"
   ]
  },
  {
   "cell_type": "code",
   "execution_count": null,
   "id": "1e067cd9",
   "metadata": {},
   "outputs": [],
   "source": [
    "my_string = 'Data Science'\n",
    "a=input('enter a string')\n",
    "count=0\n",
    "for i in a:\n",
    "    if i!=my_string:\n",
    "        count+=1\n",
    "print(count)\n",
    "            \n",
    "        \n",
    "    #had a difficulty in this question"
   ]
  },
  {
   "cell_type": "markdown",
   "id": "9d8337ba",
   "metadata": {},
   "source": [
    "# 7.Define a function to check whether a number is in a range (1000,10000) or not."
   ]
  },
  {
   "cell_type": "code",
   "execution_count": 12,
   "id": "77e45119",
   "metadata": {},
   "outputs": [
    {
     "name": "stdout",
     "output_type": "stream",
     "text": [
      "Yes the given number 1001 is in above range\n"
     ]
    }
   ],
   "source": [
    "def check_range(n):\n",
    "    if n in range(1000,10001):\n",
    "        print('Yes the given number',n,'is in above range')\n",
    "    else:\n",
    "        print('No the given number',n,'is not in above range')\n",
    "check_range(1001)"
   ]
  },
  {
   "cell_type": "code",
   "execution_count": 11,
   "id": "c06f6d1c",
   "metadata": {},
   "outputs": [
    {
     "name": "stdout",
     "output_type": "stream",
     "text": [
      "No the given number 785 is not in above range\n"
     ]
    }
   ],
   "source": [
    "check_range(785)"
   ]
  },
  {
   "cell_type": "markdown",
   "id": "79ecb88b",
   "metadata": {},
   "source": [
    "8.Write a program to calculate the sum of all elements in the list.\n",
    "\n",
    "test_score = [10, 32, 23, 14, 25]"
   ]
  },
  {
   "cell_type": "code",
   "execution_count": 20,
   "id": "4f7ebb5c",
   "metadata": {},
   "outputs": [
    {
     "name": "stdout",
     "output_type": "stream",
     "text": [
      "the sum of all elements in the list is 104\n"
     ]
    }
   ],
   "source": [
    "Test_score = [10, 32, 23, 14, 25]\n",
    "Total=sum(Test_score)\n",
    "print('the sum of all elements in the list is',Total)"
   ]
  },
  {
   "cell_type": "markdown",
   "id": "d083692d",
   "metadata": {},
   "source": [
    "# 9.Replace all even numbers in the array with -1.\n",
    "\n",
    "Use the array given below num_array = np.array([0, 21, 32, 13, 44, 45, 26, 28, 38, 34, 65, 48, 76])"
   ]
  },
  {
   "cell_type": "code",
   "execution_count": 3,
   "id": "642b1a65",
   "metadata": {},
   "outputs": [],
   "source": [
    "import numpy as np"
   ]
  },
  {
   "cell_type": "code",
   "execution_count": 13,
   "id": "7c21367b",
   "metadata": {},
   "outputs": [],
   "source": [
    " a= np.array([0, 21, 32, 13, 44, 45, 26, 28, 38, 34, 65, 48, 76])"
   ]
  },
  {
   "cell_type": "code",
   "execution_count": 38,
   "id": "e954b0b8",
   "metadata": {},
   "outputs": [
    {
     "name": "stdout",
     "output_type": "stream",
     "text": [
      "[-1, 21, False, 13, False, 45, False, False, False, False, 65, False, False]\n"
     ]
    }
   ],
   "source": [
    "a1=[]\n",
    "for i in a:\n",
    "    if i%2==0:\n",
    "        a1.append(i ==-1)\n",
    "    else:\n",
    "        a1.append(i)\n",
    "print(a1)\n",
    "        \n",
    "    "
   ]
  },
  {
   "cell_type": "markdown",
   "id": "7aa8f5fd",
   "metadata": {},
   "source": [
    "# 10.Find the minimum value along each of the rows. \n",
    "\n",
    "Create a 2D Numpy array from list of lists \n",
    "\n",
    "Score = np.array([[210, 402, 383], [140, 375, 106], [140, 125, 217], [292, 240, 295]])"
   ]
  },
  {
   "cell_type": "code",
   "execution_count": 40,
   "id": "a08b0b0e",
   "metadata": {},
   "outputs": [],
   "source": [
    "Score= np.array([[210, 402, 383], [140, 375, 106], [140, 125, 217], [292, 240, 295]])"
   ]
  },
  {
   "cell_type": "code",
   "execution_count": 42,
   "id": "97ce92c2",
   "metadata": {},
   "outputs": [
    {
     "data": {
      "text/plain": [
       "array([[210, 402, 383],\n",
       "       [140, 375, 106],\n",
       "       [140, 125, 217],\n",
       "       [292, 240, 295]])"
      ]
     },
     "execution_count": 42,
     "metadata": {},
     "output_type": "execute_result"
    }
   ],
   "source": [
    "Score"
   ]
  },
  {
   "cell_type": "code",
   "execution_count": 48,
   "id": "d41451b4",
   "metadata": {},
   "outputs": [
    {
     "data": {
      "text/plain": [
       "2"
      ]
     },
     "execution_count": 48,
     "metadata": {},
     "output_type": "execute_result"
    }
   ],
   "source": [
    "Score.ndim"
   ]
  },
  {
   "cell_type": "code",
   "execution_count": 65,
   "id": "74162989",
   "metadata": {},
   "outputs": [
    {
     "data": {
      "text/plain": [
       "[210, 106, 125, 240]"
      ]
     },
     "execution_count": 65,
     "metadata": {},
     "output_type": "execute_result"
    }
   ],
   "source": [
    "a=np.array([[210, 402, 383], [140, 375, 106], [140, 125, 217], [292, 240, 295]])\n",
    "a2=[]\n",
    "for i in a:\n",
    "    a2.append(i.min())\n",
    "a2"
   ]
  },
  {
   "cell_type": "code",
   "execution_count": null,
   "id": "236fa83b",
   "metadata": {},
   "outputs": [],
   "source": []
  }
 ],
 "metadata": {
  "kernelspec": {
   "display_name": "Python 3 (ipykernel)",
   "language": "python",
   "name": "python3"
  },
  "language_info": {
   "codemirror_mode": {
    "name": "ipython",
    "version": 3
   },
   "file_extension": ".py",
   "mimetype": "text/x-python",
   "name": "python",
   "nbconvert_exporter": "python",
   "pygments_lexer": "ipython3",
   "version": "3.10.9"
  }
 },
 "nbformat": 4,
 "nbformat_minor": 5
}

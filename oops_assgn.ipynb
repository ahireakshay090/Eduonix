{
  "nbformat": 4,
  "nbformat_minor": 0,
  "metadata": {
    "colab": {
      "provenance": [],
      "authorship_tag": "ABX9TyOBltg+g9AWNiZbTRzZ2gA4",
      "include_colab_link": true
    },
    "kernelspec": {
      "name": "python3",
      "display_name": "Python 3"
    },
    "language_info": {
      "name": "python"
    }
  },
  "cells": [
    {
      "cell_type": "markdown",
      "metadata": {
        "id": "view-in-github",
        "colab_type": "text"
      },
      "source": [
        "<a href=\"https://colab.research.google.com/github/ahireakshay090/Eduonix/blob/main/oops_assgn.ipynb\" target=\"_parent\"><img src=\"https://colab.research.google.com/assets/colab-badge.svg\" alt=\"Open In Colab\"/></a>"
      ]
    },
    {
      "cell_type": "code",
      "source": [],
      "metadata": {
        "id": "NGJuurfhTpKF"
      },
      "execution_count": null,
      "outputs": []
    },
    {
      "cell_type": "markdown",
      "source": [
        "A.\tCreate a class named (Car)\n",
        "B.\tCall constructor\n"
      ],
      "metadata": {
        "id": "kfESwp2JTqNA"
      }
    },
    {
      "cell_type": "code",
      "execution_count": 5,
      "metadata": {
        "colab": {
          "base_uri": "https://localhost:8080/",
          "height": 130
        },
        "id": "Atzm9DJEC3Ql",
        "outputId": "ed290cb3-2d41-4653-99fc-008f2d7b0499"
      },
      "outputs": [
        {
          "output_type": "error",
          "ename": "IndentationError",
          "evalue": "ignored",
          "traceback": [
            "\u001b[0;36m  File \u001b[0;32m\"<ipython-input-5-b44f33816155>\"\u001b[0;36m, line \u001b[0;32m30\u001b[0m\n\u001b[0;31m    obj= Thar()\u001b[0m\n\u001b[0m               ^\u001b[0m\n\u001b[0;31mIndentationError\u001b[0m\u001b[0;31m:\u001b[0m expected an indented block after function definition on line 28\n"
          ]
        }
      ],
      "source": [
        "class car:\n",
        "  def __init__(self):\n",
        "    print('car has 4 wheels')\n",
        "\n",
        "    #C.\tCreate 3 attributes under that (name, price, colour)\n",
        "class car:\n",
        "  def __init__(self,name,price,color):\n",
        "    self.name= name\n",
        "    self.price= price\n",
        "    self.color= color\n",
        "\n",
        "  def description(self):\n",
        "    return ' {} costs {} with {} color '.format(self.name,self.price,self.color)\n",
        "\n",
        "    #D.\tCreate 3 functions - 1. sound 2. speed 3. display (to display 1 and 2 fuctions)\n",
        "\n",
        "  def sound(self):\n",
        "    print('broom')\n",
        "\n",
        "  def speed(slef):\n",
        "    print('80kmps')\n",
        "\n",
        "  def disp(self):\n",
        "    print(self.sound,self.speed)\n",
        "\n",
        "    #E.\tCreate a child class named (Thar) and inherite Car\n",
        "class Thar(car):\n",
        "  def display(self):\n",
        "\n",
        "obj= Thar()\n",
        "obj.display()\n",
        "\n",
        "\n",
        "\n",
        "\n",
        "\n",
        "\n",
        "\n",
        "\n"
      ]
    },
    {
      "cell_type": "code",
      "source": [],
      "metadata": {
        "colab": {
          "base_uri": "https://localhost:8080/",
          "height": 130
        },
        "id": "zYa1Fb_5Dy9E",
        "outputId": "bb90e704-ded2-4017-ef81-efc75425507d"
      },
      "execution_count": null,
      "outputs": [
        {
          "output_type": "error",
          "ename": "SyntaxError",
          "evalue": "ignored",
          "traceback": [
            "\u001b[0;36m  File \u001b[0;32m\"<ipython-input-5-e378061f7fd9>\"\u001b[0;36m, line \u001b[0;32m3\u001b[0m\n\u001b[0;31m    def__init__(self,name,price,colour):\u001b[0m\n\u001b[0m                                       ^\u001b[0m\n\u001b[0;31mSyntaxError\u001b[0m\u001b[0;31m:\u001b[0m invalid syntax\n"
          ]
        }
      ]
    },
    {
      "cell_type": "code",
      "source": [],
      "metadata": {
        "id": "DjmIIBiu6-RK"
      },
      "execution_count": null,
      "outputs": []
    }
  ]
}